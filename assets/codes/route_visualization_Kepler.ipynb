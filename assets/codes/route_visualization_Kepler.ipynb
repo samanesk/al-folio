{
 "cells": [
  {
   "cell_type": "code",
   "execution_count": null,
   "metadata": {},
   "outputs": [],
   "source": []
  },
  {
   "cell_type": "markdown",
   "metadata": {},
   "source": [
    "## Getting Started"
   ]
  },
  {
   "cell_type": "markdown",
   "metadata": {},
   "source": [
    "Before the start, make sure Kepler for Jupyter Notebook is installed. For the instructions for installation refer to https://github.com/keplergl/kepler.gl/tree/master/bindings/kepler.gl-jupyter.  "
   ]
  },
  {
   "cell_type": "markdown",
   "metadata": {},
   "source": [
    "Assume we want to visualize the following set of routes with Kepler. Each route is represented with an id, and a sequence of geocodes. Each geocode consists of a latitude and a longitude.  "
   ]
  },
  {
   "cell_type": "code",
   "execution_count": 1,
   "metadata": {},
   "outputs": [],
   "source": [
    "routes = {\"id\":[1,2,3],\"geocodes\":[[\n",
    "      [\n",
    "        151.0533217,\n",
    "        -33.891942\n",
    "      ],\n",
    "      [\n",
    "        144.941251,\n",
    "        -37.62758\n",
    "      ],\n",
    "      [\n",
    "        144.8178253,\n",
    "        -37.8093491\n",
    "      ]\n",
    "    ],[\n",
    "      [\n",
    "        144.8178253,\n",
    "        -37.8093491\n",
    "      ],\n",
    "      [\n",
    "        151.0662527,\n",
    "        -33.9038507\n",
    "      ],\n",
    "      [\n",
    "        151.0657353,\n",
    "        -33.8766078\n",
    "      ]\n",
    "    ],[\n",
    "      [\n",
    "        144.941251,\n",
    "        -37.62758\n",
    "      ],\n",
    "      [\n",
    "        144.8524239,\n",
    "        -37.6786503\n",
    "      ],\n",
    "      [\n",
    "        144.941251,\n",
    "        -37.62758\n",
    "      ]\n",
    "    ]]}"
   ]
  },
  {
   "cell_type": "markdown",
   "metadata": {},
   "source": [
    "There are multiple ways with which we can visualize a set of routes with Kepler. Here I present three methods.  "
   ]
  },
  {
   "cell_type": "markdown",
   "metadata": {},
   "source": [
    "## Method 1"
   ]
  },
  {
   "cell_type": "code",
   "execution_count": null,
   "metadata": {},
   "outputs": [],
   "source": []
  }
 ],
 "metadata": {
  "interpreter": {
   "hash": "999bf340ba54684e1817ccd85ecd1f61389985361d1ea8e90c1102262142a5f6"
  },
  "kernelspec": {
   "display_name": "Python 3.7.9 64-bit (system)",
   "language": "python",
   "name": "python3"
  },
  "language_info": {
   "codemirror_mode": {
    "name": "ipython",
    "version": 3
   },
   "file_extension": ".py",
   "mimetype": "text/x-python",
   "name": "python",
   "nbconvert_exporter": "python",
   "pygments_lexer": "ipython3",
   "version": "3.7.9"
  },
  "orig_nbformat": 4
 },
 "nbformat": 4,
 "nbformat_minor": 2
}
